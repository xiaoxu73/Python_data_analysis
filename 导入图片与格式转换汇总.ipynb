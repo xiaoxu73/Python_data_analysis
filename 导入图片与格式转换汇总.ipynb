{
 "cells": [
  {
   "metadata": {
    "collapsed": true
   },
   "cell_type": "markdown",
   "source": [
    "✅ **导入图片总结表格：**\n",
    "\n",
    "|        方法         |    返回类型     | 是否支持多种格式 | 是否适合深度学习 |\n",
    "|:-----------------:|:-----------:|:--------:|:--------:|\n",
    "|  PIL.Image.open   |  PIL.Image  |    ✅     | ⚠️（需转换）  |\n",
    "| skimage.io.imread | NumPy (RGB) |    ✅     |    ✅     |\n",
    "|    cv2.imread     | NumPy (BGR) |    ✅     |    ✅     |\n",
    "|    plt.imread     | NumPy (RGB) |  ⚠️（有限）  |    ⚠️    |\n",
    "|  imageio.imread   | NumPy (RGB) |    ✅     |    ✅     |\n",
    "|  tf.image.decode  |   Tensor    |    ✅     |    ✅     |\n"
   ],
   "id": "1fd39106a7c78a05"
  },
  {
   "metadata": {},
   "cell_type": "markdown",
   "source": [
    "1️⃣ **PIL ↔ NumPy**\n",
    "| 方向          | 代码                                                  | 备注                   |\n",
    "| :-----------: | :---------------------------------------------------: | --------------------: |\n",
    "| PIL → NumPy | `img_np = np.array(pil_img)`                        | RGB顺序                |\n",
    "| NumPy → PIL | `pil_img = Image.fromarray(img_np.astype('uint8'))` | 必须是`uint8`，形状(H,W,C) |\n"
   ],
   "id": "55f16f3ac9a42954"
  },
  {
   "metadata": {},
   "cell_type": "markdown",
   "source": [
    "2️⃣ **NumPy ↔ Tensor**\n",
    "| 框架         | 方向             | 代码                                                       | 备注                              |\n",
    "| ---------- | -------------- | -------------------------------------------------------- | ------------------------------- |\n",
    "| PyTorch    | NumPy → Tensor | `tensor = torch.from_numpy(img_np).permute(2,0,1)`       | HWC→CHW，归一化到0-1再`/255.`         |\n",
    "| PyTorch    | Tensor → NumPy | `img_np = tensor.mul(255).permute(1,2,0).byte().numpy()` | CHW→HWC                         |\n",
    "| TensorFlow | NumPy → Tensor | `tensor = tf.convert_to_tensor(img_np)`                  | 可选`tf.cast(tensor, tf.float32)` |\n",
    "| TensorFlow | Tensor → NumPy | `img_np = tensor.numpy()`                                | 必须在Eager模式下                     |"
   ],
   "id": "66b1c4582d45a5ee"
  },
  {
   "metadata": {},
   "cell_type": "markdown",
   "source": [
    "3️⃣ **PIL ↔ Tensor（跳过NumPy）**\n",
    "| 框架         | 方向           | 代码                                                                | 备注             |\n",
    "| ---------- | ------------ | ----------------------------------------------------------------- | -------------- |\n",
    "| PyTorch    | PIL → Tensor | `tensor = transforms.ToTensor()(pil_img)`                         | 已归一化到0-1，CHW   |\n",
    "| PyTorch    | Tensor → PIL | `pil_img = transforms.ToPILImage()(tensor)`                       | 自动反归一化，CHW→HWC |\n",
    "| TensorFlow | PIL → Tensor | `tensor = tf.image.decode_image(tf.io.encode_jpeg(pil_to_bytes))` | 不推荐，建议先转NumPy  |\n",
    "| TensorFlow | Tensor → PIL | `pil_img = Image.fromarray(tensor.numpy().astype('uint8'))`       | 先转NumPy        |"
   ],
   "id": "418d948e3218d25"
  },
  {
   "metadata": {},
   "cell_type": "markdown",
   "source": [
    "⚠️ **常见坑提醒**\n",
    "| 坑点          | 说明                                                   |\n",
    "| :-----------: | :----------------------------------------------------: |\n",
    "| **通道顺序**    | OpenCV/PIL是HWC，PyTorch是CHW；TensorFlow默认是NHWC（含batch） |\n",
    "| **数据类型**    | PIL和NumPy必须是`uint8`；Tensor是`float32`且值域0-1           |\n",
    "| **归一化**     | `ToTensor()`已帮你`/255.`；自己转NumPy时记得手动除                |\n",
    "| **batch维度** | 推理时PyTorch常用`(1,3,H,W)`，TensorFlow常用`(1,H,W,3)`      |\n"
   ],
   "id": "bca47aafbb385e24"
  }
 ],
 "metadata": {
  "kernelspec": {
   "display_name": "Python 3",
   "language": "python",
   "name": "python3"
  },
  "language_info": {
   "codemirror_mode": {
    "name": "ipython",
    "version": 2
   },
   "file_extension": ".py",
   "mimetype": "text/x-python",
   "name": "python",
   "nbconvert_exporter": "python",
   "pygments_lexer": "ipython2",
   "version": "2.7.6"
  }
 },
 "nbformat": 4,
 "nbformat_minor": 5
}
