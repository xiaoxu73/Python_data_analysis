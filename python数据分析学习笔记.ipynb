{
 "cells": [
  {
   "metadata": {},
   "cell_type": "code",
   "source": [
    "import numpy as np\n",
    "import random\n",
    "import pandas as pd\n",
    "import matplotlib.pyplot as plt\n",
    "# !netstat -ano | findstr :8888 # 查看8888端口被哪个进程占用\n",
    "# !jupyter server list # 查看当前jupyter server列表\n",
    "# !Remove-Item \"$env:APPDATA\\jupyter\\runtime\\jpserver-*.json\" -Force # 手动删掉 runtime 目录下的所有 json, 防止端口冲突"
   ],
   "id": "3ebaf61313d0504e",
   "outputs": [],
   "execution_count": null
  },
  {
   "metadata": {},
   "cell_type": "markdown",
   "source": [
    "# NumPy基础\n",
    "*NumPy是Python中进行科学计算的基础包，提供了强大的多维数组对象和各种操作数组的函数。*"
   ],
   "id": "d4c9839a970f0e67"
  },
  {
   "metadata": {},
   "cell_type": "code",
   "source": [
    "# 创建数组\n",
    "print(np.array([[1, 2, 3], [4, 5, 6]]))  # 直接创建二维数组\n",
    "print(np.empty((2, 2), dtype=np.float64))  # 创建未初始化的数组\n",
    "print(np.full((3, 4), 7, dtype=np.float64))  # 创建所有元素为7的数组\n",
    "print(np.zeros((3, 4), dtype=np.float64))  # 创建全零数组\n",
    "print(np.ones((3, 4), dtype=np.float64))  # 创建全一数组\n",
    "print(np.empty((3, 4), dtype=np.float64))  # 创建未初始化的数组\n",
    "# 注意 ones_like/zeros_like/full_like 需要传入数组而不是shape\n",
    "print(np.ones_like(np.zeros((3, 4)), dtype=np.float64))  # 创建与给定数组形状相同的全一数组\n",
    "print(np.zeros_like(np.ones((3, 4)), dtype=np.float64))  # 创建与给定数组形状相同的全零数组\n",
    "print(np.full_like(np.ones((3, 4)), 6, dtype=np.float64))  # 创建与给定数组形状相同的全6数组"
   ],
   "id": "d1b0ad7973cdc4e9",
   "outputs": [],
   "execution_count": null
  },
  {
   "metadata": {},
   "cell_type": "code",
   "source": [
    "# 随机数\n",
    "print(random.randint(1, 100))  # 生成1到100之间的随机整数\n",
    "print(random.uniform(1, 100))  # 生成1到100之间的随机浮点数\n",
    "print(np.random.randint(1, 100, (3, 4)))  # 生成3x4的随机整数数组\n",
    "print(np.random.uniform(1, 100, (3, 4)))  # 生成3x4的随机浮点数组\n",
    "print(np.random.randn(3, 4))  # 生成标准正态分布的数组\n",
    "print(np.random.rand(3, 4))  # 生成0-1均匀分布的数组\n",
    "print(random.randbytes(1))  # 生成1字节的随机字节"
   ],
   "id": "6834978aff875cdf",
   "outputs": [],
   "execution_count": null
  },
  {
   "metadata": {},
   "cell_type": "code",
   "source": [
    "# 固定随机种子\n",
    "np.random.seed(1)\n",
    "print(np.random.rand(3, 4))\n",
    "print(np.random.rand(3, 4))"
   ],
   "id": "f28998693aa166de",
   "outputs": [],
   "execution_count": null
  },
  {
   "metadata": {},
   "cell_type": "code",
   "source": [
    "# 索引和切片\n",
    "arr = np.random.randint(0, 5, (1, 10))\n",
    "print(arr[0, 5])  # 访问第1行第6列\n",
    "print(arr[:, 2:8:2])  # 切片：第1行，第3到第8列，步长2\n",
    "print(arr)\n",
    "print((arr>2).reshape(-1))  # 布尔判断并拉平成一维\n",
    "print(type(arr>2))  # 布尔数组类型\n",
    "print(arr[arr>2])  # 布尔索引，筛选大于2的元素\n",
    "print(arr[0,[0,3,4]])  # 按索引列表取元素\n",
    "\n",
    "# 常用切片和变形例子\n",
    "arr3 = np.arange(12).reshape(3,4)\n",
    "print(arr3[1])  # 取第2行\n",
    "print(arr3[:,2])  # 取第3列\n",
    "print(arr3[1:3,1:3])  # 取第2-3行，第2-3列\n",
    "print(arr3.flatten())  # 拉平成一维\n",
    "print(arr3.T)  # 转置"
   ],
   "id": "71a67a15a2359b32",
   "outputs": [],
   "execution_count": null
  },
  {
   "metadata": {},
   "cell_type": "code",
   "source": [
    "# 拼接与分割\n",
    "a = np.array([[1,2],[3,4]])\n",
    "b = np.array([[5,6],[7,8]])\n",
    "print(np.concatenate([a, b], axis=0))  # 按行拼接, 默认axis=0\n",
    "print(np.concatenate([a, b], axis=1))  # 按列拼接\n",
    "print(np.vstack([a, b]))  # 垂直拼接\n",
    "print(np.hstack([a, b]))  # 水平拼接\n",
    "print(type(np.split(a, 2, axis=1)))  # 按列分割返回list\n",
    "print(np.split(a, 2, axis=1))  # 按列分割\n",
    "print(np.split(a, 2, axis=0))  # 按行分割"
   ],
   "id": "d1ad4ef1b884a309",
   "outputs": [],
   "execution_count": null
  },
  {
   "metadata": {},
   "cell_type": "code",
   "source": [
    "# 排序与去重与计数\n",
    "arr = np.array([3, 1, 2, 2, 5, 0])\n",
    "print(np.sort(arr))  # 排序\n",
    "print(np.argsort(arr)) # 返回排序后元素在原数组中的索引\n",
    "arr1 ,index, count = np.unique(arr, return_index=True, return_counts=True)  # 去重并且自动排序，return_index=True会返回去重后元素在原数组中的索引\n",
    "print(arr1, index, count) # 去重后的数组，去重后元素在原数组中的索引，去重后元素在原数组中出现的次数\n",
    "print(np.count_nonzero(arr))"
   ],
   "id": "48a4ea8b9d7a333e",
   "outputs": [],
   "execution_count": null
  },
  {
   "metadata": {},
   "cell_type": "code",
   "source": [
    "# 逐元素运算\n",
    "arr1 = np.random.randint(0, 5, (3, 3))\n",
    "arr2 = np.random.randint(1, 5, (3, 3))\n",
    "print(arr1 + arr2)  # 加法\n",
    "print(arr1 - arr2)  # 减法\n",
    "print(arr1 * arr2)  # 乘法\n",
    "print(arr1 / arr2)  # 除法\n",
    "print(arr1 // arr2)  # 整除\n",
    "print(arr1 ** arr2)  # 幂运算\n",
    "print(arr1 % arr2)  # 取余\n",
    "print(np.sqrt(arr1))  # 开方\n",
    "print(np.exp(arr1))  # 指数\n",
    "print(np.log(arr1+1))  # 对数（加1防止log(0)）\n",
    "\n",
    "arr1 = np.random.randint(0, 5, (3, 4))\n",
    "arr2 = np.random.randint(0, 5, (3, 4))\n",
    "print(arr1 @ arr2.T)  # 矩阵乘法\n",
    "print(np.dot(arr1, arr2.T))  # 矩阵乘法"
   ],
   "id": "b5803658659404d7",
   "outputs": [],
   "execution_count": null
  },
  {
   "metadata": {},
   "cell_type": "code",
   "source": [
    "# 广播的机制是相同维度上的长度相同，或者其中一个维度的长度为1\n",
    "print(np.array([1,2,3])+np.array([[4],[5],[6]]))"
   ],
   "id": "7201fef19af9f811",
   "outputs": [],
   "execution_count": null
  },
  {
   "metadata": {},
   "cell_type": "code",
   "source": [
    "# 检测缺失值\n",
    "print(np.isnan(np.array([1,2,3])))\n",
    "print(np.isnan(np.array([1,np.nan,3])))"
   ],
   "id": "8b2aa7c98ec610d8",
   "outputs": [],
   "execution_count": null
  },
  {
   "metadata": {},
   "cell_type": "code",
   "source": [
    "arr = np.random.randint(0, 100, (3, 4))   # 3 行 4 列\n",
    "print(\"原数组:\\n\", arr)\n",
    "\n",
    "# 统计函数，ndarray类型有很多统计方法，也可以使用 numpy 模块的同名函数\n",
    "# axis=0 → 跨行 → 对列做统计 → 得到“每列一个数”\n",
    "# axis=1 → 跨列 → 对行做统计 → 得到“每行一个数”\n",
    "# 想保留维度再加 keepdims=True，后续广播不会变形。\n",
    "\n",
    "# 按列统计（沿行方向压缩，axis=0）\n",
    "print(\"每列均值:\", arr.mean(axis=0))   # 长度 4 的数组\n",
    "print(\"每列求和:\", arr.sum(axis=0))\n",
    "\n",
    "# 按行统计（沿列方向压缩，axis=1）\n",
    "print(\"每行中位数:\", np.median(arr, axis=1))  # 长度 3 的数组\n",
    "print(\"每行最大值:\", arr.max(axis=1))\n",
    "print(\"每行最小值:\", arr.min(axis=1))\n",
    "print(\"每行最大值的索引:\", arr.argmax(axis=1))  # 返回索引\n",
    "print(\"每行最小值的索引:\", arr.argmin(axis=1))  # 返回索引\n",
    "\n",
    "# 同时指定维度 + 保持维度（可选）\n",
    "print(\"每列标准差（保持二维）:\", arr.std(axis=0, keepdims=True))  # shape(1,4)\n",
    "print(\"每行方差:\", arr.var(axis=1))"
   ],
   "id": "f245754c5ae66afb",
   "outputs": [],
   "execution_count": null
  },
  {
   "metadata": {},
   "cell_type": "code",
   "source": [
    "# where函数\n",
    "arr = np.random.randint(0, 100, (3, 4))\n",
    "print(\"原数组:\\n\", arr)\n",
    "print(np.where(arr>50, arr, 0))  # 条件满足时取第2个参数，否则取第3个参数"
   ],
   "id": "650a215fb085bf3",
   "outputs": [],
   "execution_count": null
  },
  {
   "metadata": {},
   "cell_type": "markdown",
   "source": [
    "# Pandas基础\n",
    " *Pandas是Python中用于数据分析和处理的强大库，提供了高效的数据结构和数据操作工具。*"
   ],
   "id": "8a8b42e14cb938d1"
  },
  {
   "metadata": {},
   "cell_type": "markdown",
   "source": [
    "## series\n",
    "*Series是一种类似于一维数组的对象，可以存储各种数据类型，并且带有标签（索引）。*"
   ],
   "id": "663fd1e68200629f"
  },
  {
   "metadata": {},
   "cell_type": "code",
   "source": [
    "# 创建Series\n",
    "ser = pd.Series([1, 2, 3, 4, 5])  # 创建一个整数类型的Pandas数组\n",
    "print(ser)\n",
    "ser = pd.Series([1.0, 2.0, 3.0], index=['a', 'b', 'c'], name='test')  # 创建一个浮点类型的Pandas数组，并指定索引和名称\n",
    "print(ser)\n",
    "# 用字典创建Series\n",
    "ser = pd.Series({'a': 1, 'b': 2, 'c': 3})  # 用字典创建Series，类型需要一致，不一致时会自动转换为更高级的类型\n",
    "print(ser)\n",
    "ser"
   ],
   "id": "653b2019d880a668",
   "outputs": [],
   "execution_count": null
  },
  {
   "metadata": {},
   "cell_type": "code",
   "source": [
    "# Series属性\n",
    "ser = pd.Series([1, 2, 3, 4, 5], index=['a', 'b', 'c', 'd', 'e'], name='test')\n",
    "print(ser.index)  # 索引\n",
    "print(ser.values)  # 值\n",
    "print(ser.dtype)  # 数据类型\n",
    "print(ser.shape)  # 形状\n",
    "print(ser.size)  # 元素个数\n",
    "print(ser.ndim)  # 维度\n",
    "print(ser.name)  # 名称"
   ],
   "id": "79e688c29dbbe3ea",
   "outputs": [],
   "execution_count": null
  },
  {
   "metadata": {},
   "cell_type": "code",
   "source": [
    "# Series访问数据\n",
    "ser = pd.Series([1, 2, 3, 4, 5], index=['a', 'b', 'c', 'd', 'e'], name='test')\n",
    "print(ser['a'])  # 通过索引访问单个元素，返回单个元素\n",
    "print(ser[['a', 'c']])  # 通过索引列表访问多个元素，返回Series\n",
    "print(ser>2)  # 布尔索引，筛选大于1的元素\n",
    "print(ser[ser > 2])  # 布尔索引，筛选大于1的元素\n",
    "\n",
    "print(ser.loc[['a', 'c']])  # 显式索引，按标签索引，返回Series，支持切片\n",
    "print(ser.iloc[0:3])  # 隐式索引，按位置索引，返回Series，支持切片\n",
    "print(ser.at['a'])  # 显式索引，按标签索引，返回单个元素\n",
    "print(ser.iat[0])  # 隐式索引，按位置索"
   ],
   "id": "8f733bd9bde861d9",
   "outputs": [],
   "execution_count": null
  },
  {
   "metadata": {},
   "cell_type": "code",
   "source": [
    "# Series常用方法\n",
    "ser = pd.Series([1, 2, 3, np.nan, None, 4, 5], index=['a', 'b', 'c', 'd', 'e', 'f', 'g'], name='test')\n",
    "print(ser.head(2))  # 返回前n个元素，默认n=5\n",
    "print(ser.tail(2))  # 返回后n个元素，默认n=5\n",
    "\n",
    "print(ser.keys()) # 返回索引\n",
    "print(ser.astype(np.float64))  # 返回一个新的Series，转换数据类型\n",
    "\n",
    "print(ser.describe())  # 返回描述性统计信息，包括计数、均值、标准差、最小值、四分位数和最大值\n",
    "print(ser.count())  # 返回非缺失值的数量\n",
    "print(ser.sum())  # 返回元素的和\n",
    "print(ser.mean())  # 返回元素的均值\n",
    "print(ser.var())  # 返回元素的方差\n",
    "print(ser.std())  # 返回元素的标准差\n",
    "print(ser.median())  # 返回元素的中位数\n",
    "print(ser.mode())  # 返回元素的众数\n",
    "print(ser.min())  # 返回元素的最小值\n",
    "print(ser.max())  # 返回元素的最大值\n",
    "print(ser.idxmin())  # 返回最小值的索引\n",
    "print(ser.idxmax())  # 返回最大值的索引\n",
    "print(ser.nlargest(3)) # 返回前n个最大值，默认n=5\n",
    "print(ser.nsmallest(3)) # 返回前n个最小值，默认n=5\n",
    "\n",
    "print(ser.nunique()) # 返回唯一值的数量\n",
    "print(ser.unique())  # 去重\n",
    "print(ser.value_counts())  # 返回唯一值的计数\n",
    "\n",
    "print(ser.isnull())  # 返回布尔数组，表示元素是否为缺失值\n",
    "print(ser.notnull())  # 返回布尔数组，表示元素是否为非缺失值\n",
    "print(ser.isna())  # 返回布尔数组，表示元素是否为缺失值\n",
    "print(ser.notna())  # 返回布尔数组，表示元素是否为非缺失值\n",
    "\n",
    "print(ser.isin([1, 2]))  # 返回布尔数组，表示元素是否在给定列表中\n",
    "\n",
    "print(ser.sort_values())  # 返回一个新的Series，按值排序\n",
    "print(ser.sort_index())  # 返回一个新的Series，按索引排序\n",
    "\n",
    "print(ser.dropna())  # 返回一个新的Series，删除缺失值\n",
    "print(ser.drop_duplicates()) # 返回一个新的Series，删除重复值\n",
    "print(ser.fillna(0))  # 返回一个新的Series，填充缺失值为指定值\n",
    "\n",
    "print(ser.diff().abs())  # 返回一个新的Series，计算相邻元素的差值, 取绝对值\n",
    "print(ser.pct_change())  # 返回一个新的Series，计算相邻元素的百分比变化(百分比变化=(当前值-前一个值)/前一个值)\n",
    "print(ser.cumsum())  # 返回一个新的Series，计算累积和\n",
    "print(ser.cumprod())  # 返回一个新的Series，计算累积积\n",
    "print(ser.cummax())  # 返回一个新的Series，计算累积最大值\n",
    "print(ser.cummin())  # 返回一个新的Series，计算累积最小"
   ],
   "id": "4696e6c15d8adfbb",
   "outputs": [],
   "execution_count": null
  },
  {
   "metadata": {},
   "cell_type": "code",
   "source": [
    "# 日期时间序列\n",
    "data = pd.date_range(start='2023-01-01', periods=12, freq='MS')  # 生成日期范围，频率为每月月初 # 访问日期的某个属性\n",
    "print(data.day>3)\n",
    "series = pd.Series(np.random.randint(10, 20, 12), index=data) # 创建一个以日期为索引的Series\n",
    "print(series.resample('QS').mean())  # 按季度重采样，取均值\n",
    "print(series.rolling(window=3).mean())  # 滚动窗口，窗口大小为3，取均值\n",
    "# print(series.resample('M').mean())  # 按月重采样，取均值\n",
    "# print(series.resample('W').mean())  # 按周重采样，取均值\n",
    "# print(series.resample('D').mean())  # 按天重\n",
    "date_rng = pd.date_range(start='2023-01-01', end='2023-01-10', freq='D')  # 生成日期范围，频率为每天\n",
    "print(date_rng)\n",
    "ser = pd.Series(np.random.randint(0, 100, len(date_rng)), index=date_rng, name='test')  # 创建一个以日期为索引的Series\n",
    "print(ser)\n",
    "print(ser['2023-01-03'])  # 通过日期索引访问\n",
    "print(ser['2023-01'])  # 通过月份索引访问\n",
    "print(ser['2023'])  # 通过年份索引访问\n",
    "print(ser['2023-01-03':'2023-01-06'])  # 通过日期范围切片访问\n",
    "ser"
   ],
   "id": "2f0ba311bccdd06",
   "outputs": [],
   "execution_count": null
  },
  {
   "metadata": {},
   "cell_type": "markdown",
   "source": [
    "## DataFrame\n",
    "*DataFrame是一个二维表格数据结构，其每一列就是一个series，类似于电子表格或SQL表格，可以存储不同类型的数据，并且带有行索引和列标签。*"
   ],
   "id": "a73a0e52af7298e7"
  },
  {
   "metadata": {},
   "cell_type": "code",
   "source": [
    "# 用字典创建一个学生的DataFrame\n",
    "data = {\n",
    "    'Name': ['Alice', 'Bob', 'Charlie', 'David', 'Eve', 'Frank'],\n",
    "    'ID': [1001, 1002, 1003, 1004, 1005, 1006],\n",
    "    'Score': [85.5, 90.0, 78.5, 90.0, 88.0, 76.5],\n",
    "    'Age': [24, 27, 22, 32, 29, 23],\n",
    "    'City': ['New York', 'Los Angeles', 'Chicago', 'Houston', 'Phoenix', 'Philadelphia']\n",
    "}\n",
    "df = pd.DataFrame(data, index=['a', 'b', 'c', 'd', 'e', 'f'])  # 创建DataFrame，并指定行索引\n",
    "df"
   ],
   "id": "efbd2a7647e84ed2",
   "outputs": [],
   "execution_count": null
  },
  {
   "metadata": {},
   "cell_type": "code",
   "source": [
    "# DataFrame属性\n",
    "print(df.index)  # 行索引\n",
    "print(df.columns)  # 列标签\n",
    "print(df.values)  # 值\n",
    "print(df.dtypes)  # 每列的数据类型\n",
    "print(df.shape)  # 形状\n",
    "print(df.size)  # 元素个数\n",
    "print(df.ndim)  # 维度\n",
    "print(df.info())  # 数据概览"
   ],
   "id": "f36bb55854cc7df8",
   "outputs": [],
   "execution_count": null
  },
  {
   "metadata": {},
   "cell_type": "code",
   "source": [
    "# 行列转置\n",
    "print(df.T)  # 转置\n",
    "df.T"
   ],
   "id": "3a4d90787b0c959c",
   "outputs": [],
   "execution_count": null
  },
  {
   "metadata": {},
   "cell_type": "code",
   "source": [
    "# DataFrame访问数据\n",
    "print(df.Name)  # 通过列标签访问单列，返回Series\n",
    "print('-'*50)\n",
    "print(df['Name'])  # 通过列标签访问单列，返回Series\n",
    "print('-'*50)\n",
    "print(df[['Name', 'Age']])  # 通过列标签列表访问多列，返回DataFrame\n",
    "print('-'*50)\n",
    "print(df.loc['a'])  # 显式索引，按标签索引单行，返回Series\n",
    "print('-'*50)\n",
    "print(df.loc['a':'c', 'Name'])  # 显式索引，按标签索引多行一列，返回DataFrame，支持切片\n",
    "print('-'*50)\n",
    "print(df.loc[['a', 'c']])  # 显式索引，按标签索引多行，返回DataFrame\n",
    "print('-'*50)\n",
    "print(df.iloc[0])  # 隐式索引，按位置索引单行，返回Series\n",
    "print('-'*50)\n",
    "print(df.iloc[0:2, 0])  # 隐式索引，按位置索引多行，返回DataFrame\n",
    "print('-'*50)\n",
    "print(df.at['a', 'Name']) # 显式索引，按标签索引单个元素，返回单个值\n",
    "print('-'*50)\n",
    "print(df.iat[0, 1]) # 隐式索引，按位置索引单个元素，返回单个值"
   ],
   "id": "9ef1406f2cf5423c",
   "outputs": [],
   "execution_count": null
  },
  {
   "metadata": {},
   "cell_type": "code",
   "source": [
    "print(df.head(3)) # 返回前n行，默认n=5\n",
    "print('-'*50)\n",
    "print(df.tail(2)) # 返回后n行，默认n=5\n",
    "print('-'*50)\n",
    "print(df.sample(2)) # 随机返回n行，默认n=1"
   ],
   "id": "19cec56bea64a230",
   "outputs": [],
   "execution_count": null
  },
  {
   "metadata": {},
   "cell_type": "code",
   "source": [
    "# boolean索引\n",
    "print(df[df.Age > 25])  # 布尔索引，筛选Age大于25的行\n",
    "print('-'*50)\n",
    "print(df[(df.Score >= 85) & (df.Age < 25)])  # 布尔索引，筛选Score大于等于85的行\n",
    "print('-'*50)\n",
    "print(df[df.Name.isin(['Alice', 'Bob'])]) # 布尔索引，筛选Name在给定列表中的行"
   ],
   "id": "aa24ca853c3602b0",
   "outputs": [],
   "execution_count": null
  },
  {
   "metadata": {},
   "cell_type": "code",
   "source": [
    "# DataFrame常用方法\n",
    "print(df.isin({'Name': ['Alice', 'Bob'], 'Age': [22, 23]}))  # 返回布尔DataFrame，表示元素是否在给定字典中\n",
    "print('-'*50)\n",
    "print(df.sort_values(['Score', 'Age'], ascending=[False, True]))  # 返回一个新的DataFrame，按顺序多列排序（第一列相等，再比第二列），可分别指定升降序\n",
    "print('-'*50)\n",
    "print(df.nlargest(3, ['Score', 'Age']))  # 返回指定列前n个最大值的行并排序，默认n=5，若第一列相等，再找指定的第二列\n",
    "print('-'*50)\n",
    "# 统计函数，DataFrame类型有很多统计方法，也可以使用 pandas 模块的同名函数，对每一列的数据进行统计和对series的操作是一样的\n",
    "print(df.Age.mean())  # 返回Age列的均值\n",
    "print('-'*50)\n",
    "print(df.describe())  # 返回描述性统计信息\n",
    "print('-'*50)\n",
    "print(df.isnull().sum()) # 返回每列缺失值的数量\n",
    "print('-'*50)\n",
    "print(df.notnull().sum()) # 返回每列非缺失值的数量\n",
    "print('-'*50)\n",
    "print(df.isna()) # 返回布尔DataFrame，表示元素是否为缺失值\n",
    "print('-'*50)\n",
    "print(df.notna()) # 返回布尔DataFrame，表示元素是否为非缺失值\n",
    "print('-'*50)\n",
    "print(df.dropna())  # 返回一个新的DataFrame，删除含有缺失值的行\n",
    "print('-'*50)"
   ],
   "id": "7306f0d99fa66114",
   "outputs": [],
   "execution_count": null
  },
  {
   "metadata": {},
   "cell_type": "markdown",
   "source": [
    "## 数据的导入与导出\n",
    "*Pandas支持多种数据格式的导入和导出，包括CSV、Excel、JSON等。*"
   ],
   "id": "22d7b6372de907a0"
  },
  {
   "metadata": {},
   "cell_type": "code",
   "source": [
    "# CSV文件\n",
    "df = pd.read_csv('data/employees.csv')  # 读取CSV文件\n",
    "print(type(df))  # 查看类型\n",
    "print(df.salary.mean())  # 计算salary列的均值\n",
    "# 数据的导出\n",
    "df_head = df.head()  # 获取最后几行\n",
    "df_head.to_csv('data/employees_head.csv', index=False)  # 导出为CSV文件\n",
    "df_head"
   ],
   "id": "d7f1a85facbd259e",
   "outputs": [],
   "execution_count": null
  },
  {
   "metadata": {},
   "cell_type": "code",
   "source": [
    "# JSON文件\n",
    "df = pd.read_json('data/data1.json')  # 读取JSON文件\n",
    "print(type(df))  # 查看类型\n",
    "print(df)\n",
    "\n",
    "import json\n",
    "with open('data/data2.json', 'w+') as fp:\n",
    "    json.dump(df_head.to_dict(orient='records'), fp)  # 导出为JSON文件\n",
    "\n",
    "with open('data/test.json') as f:\n",
    "    data = json.load(f)  # 使用json模块读取JSON文件\n",
    "print(type(data))  # 查看类型\n",
    "\n",
    "df = pd.DataFrame(data['users'])  # 将JSON数据转换为DataFrame\n",
    "print(type(df))  # 查看类型\n",
    "df"
   ],
   "id": "a015c0fa365d014f",
   "outputs": [],
   "execution_count": null
  },
  {
   "metadata": {},
   "cell_type": "code",
   "source": [
    "# 数据清洗，查看和删除缺失值\n",
    "# nan:not a number\n",
    "s = pd.Series([12, 25, np.nan, None, pd.NA])\n",
    "df = pd.DataFrame([[1, pd.NA, 2], [2, 3, 5], [None, 4, 6]], columns=['第1列', '第2列', '第3列'])\n",
    "# 查看是否是缺失值\n",
    "print(s.isna())\n",
    "print(s.isnull())\n",
    "print(df.isna())\n",
    "print(df.isnull())\n",
    "\n",
    "print(df.isna().sum(axis=1))  # 按行统计缺失值\n",
    "print(s.isna().sum())  # 查看缺失值的个数\n",
    "print(s.dropna()) # series删除缺失值\n",
    "print('-'*30)\n",
    "print(df.dropna()) # dataframe删除含有缺失值的行\n",
    "print('-'*30)\n",
    "print(df.dropna(how='all')) # 如果所有的值都是缺失值，删除这一行\n",
    "print('-'*30)\n",
    "print(df.dropna(thresh=2)) # 如果至少有n个值不是缺失值，就保留\n",
    "print('-'*30)\n",
    "print(df.dropna(axis=1)) # 剔除一整列\n",
    "print('-'*30)\n",
    "print(df.dropna(subset=['第1列'])) # 如果某列有缺失值，则删除缺失值这一行"
   ],
   "id": "9a9eeaf029f38c6e",
   "outputs": [],
   "execution_count": null
  },
  {
   "metadata": {},
   "cell_type": "code",
   "source": [
    "# 填充缺失值\n",
    "df = pd.read_csv('data/weather_withna.csv')\n",
    "print(df.tail())\n",
    "print(df.isna().sum())  # 统计缺失值\n",
    "print(df.fillna({'temp_max': 20, 'wind': 2.5}).tail())  # 使用字典来填充\n",
    "# print(pd.DataFrame(df.fillna({'temp_max': 20, 'wind': 2.5}, inplace=True)).tail())  # 原地修改对象是NoneType，需要转为DataFrame\n",
    "print('-'*30)\n",
    "print(df.fillna(df[['temp_max', 'wind']].mean()).tail())  # 使用统计值来填充\n",
    "print('-'*30)\n",
    "print(df.ffill().tail())  # 用前面的相邻值填充\n",
    "print('-'*30)\n",
    "print(df.bfill().tail())  # 用后面的相邻值"
   ],
   "id": "249e7bb0bbd643ec",
   "outputs": [],
   "execution_count": null
  },
  {
   "metadata": {},
   "cell_type": "code",
   "source": [
    "# 删除重复数据\n",
    "data = {\n",
    "    \"name\":['alice','alice','bob','alice','jack','bob'],\n",
    "    \"age\":[26,25,30,25,35,30],\n",
    "    'city':['NY','NY','LA','NY','SF','LA']\n",
    "}\n",
    "df = pd.DataFrame(data)\n",
    "print(df)\n",
    "print(df.drop_duplicated())  # 删除重复行，保留第一次出现的行\n",
    "print('-'*30)\n",
    "print(df.drop_duplicated(keep='last'))  # 删除重复行，保留最后一次出现的行\n",
    "print('-'*30)\n",
    "print(df.drop_duplicated(subset=['name'], keep='last'))  # 删除指定列重复的行\n",
    "print('-'*30)\n",
    "print(df.drop_duplicated(subset=['name','age']))  # 删除指定多列重复的行"
   ],
   "id": "8b4ce9e981aae096",
   "outputs": [],
   "execution_count": null
  },
  {
   "metadata": {},
   "cell_type": "code",
   "source": [
    "# 更改数据类型\n",
    "df = pd.DataFrame({\n",
    "    'A': [1, 2, 3],\n",
    "    'B': [4.0, 5.5, 6.1],\n",
    "    'C': ['7', '8', '9'],\n",
    "    'D': ['2023-01-01', '2023-01-02', '2023-01-03']\n",
    "})\n",
    "print(df.dtypes)  # 查看数据类型\n",
    "print('-'*30)\n",
    "df['A'] = df['A'].astype(np.int8)  # 更改为int8类型\n",
    "print(df.dtypes)\n",
    "print('-'*30)\n",
    "df = df.astype({'A': np.float64, 'B': np.int32, 'C': np.float64})  # 更改指定列的数据类型\n",
    "print(df.dtypes)\n",
    "print('-'*30)\n",
    "print(df['D'].astype('datetime64[ns]'))  # 更改为日期时间类型\n",
    "print('-'*30)"
   ],
   "id": "850840210d71d29c",
   "outputs": [],
   "execution_count": null
  },
  {
   "metadata": {},
   "cell_type": "code",
   "source": [
    "#数据变形\n",
    "import pandas as pd\n",
    "data = {\n",
    "    'ID': [1, 2],\n",
    "    'name':['alice','bob'],\n",
    "    'Math': [90, 85],\n",
    "    'English': [88, 92],\n",
    "    'Science': [95, 89]\n",
    "}\n",
    "df = pd.DataFrame(data)\n",
    "print(df)\n",
    "df.T   #行列转置\n",
    "# 宽表转换成长表\n",
    "df2 = pd.melt(df,id_vars=['ID','name'],var_name='科目',value_name='分数')\n",
    "df2.sort_values('name')\n",
    "print(df2)\n",
    "# 长表转宽表\n",
    "pd.pivot(df2,index=['ID','name'],columns='科目',values='分数')"
   ],
   "id": "f803d8424864572c",
   "outputs": [],
   "execution_count": null
  },
  {
   "metadata": {},
   "cell_type": "code",
   "source": [
    "# 分列\n",
    "data = {\n",
    "    'ID': [1, 2],\n",
    "    'name':['alice smith','bob smith'],\n",
    "    'Math': [90, 85],\n",
    "    'English': [88, 92],\n",
    "    'Science': [95, 89]\n",
    "}\n",
    "df = pd.DataFrame(data)\n",
    "\n",
    "df[['first','last']]  = df['name'].str.split(\" \",expand=True)  #expand=True返回多个列进行分列\n",
    "df = pd.read_csv('data/sleep.csv')\n",
    "df = df[['person_id','blood_pressure']]\n",
    "df[['high','low']] = df['blood_pressure'].str.split('/',expand=True)\n",
    "df['high']=df['high'].astype('int64')\n",
    "df['low']=df['low'].astype('int64')\n",
    "df.info()\n",
    "df.high.mean()\n",
    "df.low.mean()"
   ],
   "id": "753dffb76e799424",
   "outputs": [],
   "execution_count": null
  },
  {
   "metadata": {},
   "cell_type": "code",
   "source": [
    "# 数据的离散化与分箱\n",
    "df = pd.read_csv('data/employees.csv')\n",
    "df1 = df.head(10)[['employee_id','salary']]\n",
    "pd.cut(df1['salary'],bins=3) #bins=n，分成n段区间，起始值、结束值是所有数据的最小值、最大值\n",
    "#4180~14100~24000\n",
    "pd.cut(df1['salary'],bins=3).value_counts() # 每个区间的数量\n",
    "pd.cut(df1['salary'],bins=[0,10000,20000,30000]) # bins=list，分成指定的n段区间，返回每个值所在的区间\n",
    "pd.cut(df1['salary'],bins=[0,10000,20000,30000]).value_counts() # 每个区间的数量\n",
    "df1['收入范围'] =pd.cut(df1['salary'],bins=[0,10000,20000,30000],labels=['低','中','高']) #bins=list，分成n段区间，返回每一区间的对应标签\n",
    "pd.qcut(df1['salary'],3) # 等频分箱，分成n段区间，每个区间的数量大致相等"
   ],
   "id": "e65e17c25258f9af",
   "outputs": [],
   "execution_count": null
  },
  {
   "metadata": {},
   "cell_type": "code",
   "source": [
    "df = pd.read_csv('data/sleep.csv')\n",
    "df1 = df.head(10)[['person_id','sleep_quality']]\n",
    "df['睡眠质量'] = pd.cut(df['sleep_quality'],bins=3,labels=\n",
    "                         ['差','中','优'])\n",
    "df['睡眠质量'].value_counts()\n",
    "df.head(10)\n",
    "df['gender']=df['gender'].astype('category')\n",
    "df['gender'].value_counts()\n",
    "# 字符串-->类别-->统计\n",
    "# 数值-->分箱（类别）-->统计\n",
    "print(df['gender'].dtype)\n",
    "print(df['睡眠质量'].dtype)"
   ],
   "id": "fc1ea2aac848bf56",
   "outputs": [],
   "execution_count": null
  },
  {
   "metadata": {},
   "cell_type": "code",
   "source": [
    "# df.rename()   df.set_index()  df.reset_index()\n",
    "df = pd.DataFrame({\n",
    "    'name':['jack','alice','tom','bob'],\n",
    "    'age':[20,30,40,50],\n",
    "    'gender':['female','male','female','male']\n",
    "})\n",
    "df.set_index(\"name\",inplace=True)\n",
    "df.reset_index(inplace=True)\n",
    "df.rename(columns={\"age\":\"年龄\"},index={0:4})"
   ],
   "id": "d22a4c5824dc8e58",
   "outputs": [],
   "execution_count": null
  },
  {
   "metadata": {},
   "cell_type": "code",
   "outputs": [],
   "execution_count": null,
   "source": [
    "# 时间数据的处理\n",
    "import pandas as pd\n",
    "d = pd.Timestamp('2015-02-28 10:22')\n",
    "d1 = pd.Timestamp('2015-02-28 13:22')\n",
    "print(d)\n",
    "print(type(d))\n",
    "print(\"年：\",d.year)\n",
    "print(\"月：\",d.month)\n",
    "print(\"日：\",d.day)\n",
    "print(d.hour, d.minute, d.second)\n",
    "print(\"季度：\",d.quarter)\n",
    "print(\"是否是月底：\",d.is_month_end)\n",
    "# 方法\n",
    "print(\"星期几：\",d.day_name())\n",
    "print(\"转换为天：\",d.to_period(\"D\"))\n",
    "print(\"转换为季度：\",d1.to_period(\"Q\"))\n",
    "print(\"转换为年度：\",d1.to_period(\"Y\"))\n",
    "print(\"转换为月度：\",d1.to_period(\"M\"))\n",
    "print(\"转换为周维度：\",d1.to_period(\"W\"))"
   ],
   "id": "5fec79fbfddaeb77"
  },
  {
   "metadata": {},
   "cell_type": "code",
   "outputs": [],
   "execution_count": null,
   "source": [
    "# 字符串转换为日期类型\n",
    "a = pd.to_datetime('20150228')\n",
    "print(a)\n",
    "print(type(a))\n",
    "print(a.day_name())\n",
    "\n",
    "# dataFrame 日期转换\n",
    "df = pd.DataFrame({\n",
    "    'sales':[100,200,300],\n",
    "    'date':['20250601','20250602','20250603']\n",
    "})\n",
    "df['datetime'] = pd.to_datetime(df['date'])\n",
    "\n",
    "print(df.info())\n",
    "print(type(df['datetime']))\n",
    "df['week']=df['datetime'].dt.day_name()\n",
    "df['datetime'].dt.year"
   ],
   "id": "c548555631f304f2"
  },
  {
   "metadata": {},
   "cell_type": "code",
   "outputs": [],
   "execution_count": null,
   "source": [
    "# csv 日期转换\n",
    "df = pd.read_csv('data/weather.csv',parse_dates=['date'])  # 读取csv时，指定某列为日期类型，自动解析\n",
    "df.info()\n",
    "df['date'].dt.day_name()"
   ],
   "id": "5842af0ed943c863"
  },
  {
   "metadata": {},
   "cell_type": "code",
   "outputs": [],
   "execution_count": null,
   "source": [
    "# 日期数据作为索引可以切片操作取数据\n",
    "df.set_index('date' , inplace=True)#设置原来的df的索引\n",
    "print(df[\"2013-01\":\"2013-02\"])"
   ],
   "id": "177b5e66778cfb6c"
  },
  {
   "metadata": {},
   "cell_type": "code",
   "outputs": [],
   "execution_count": null,
   "source": [
    "# 分组聚合\n",
    "# df.groupby('分组的字段')['聚合的字段'].聚合函数()\n",
    "import pandas as pd\n",
    "df = pd.read_csv('data/employees.csv')\n",
    "df = df.dropna(subset=['department_id'])\n",
    "df['department_id'] = df['department_id'].astype('int64')\n",
    "# 计算不同部门的平均薪资\n",
    "print(df.groupby('department_id').groups) #查看分组\n",
    "df.groupby('department_id').get_group(20) #查看具体的某个分组数据\n",
    "df2 = df.groupby('department_id')[['salary']].mean()\n",
    "df2['salary'] = df2['salary'].round(2)\n",
    "df2=df2.reset_index()\n",
    "df2.sort_values('salary',ascending=False)\n",
    "\n",
    "# 计算不同部门不同岗位的人的平均薪资\n",
    "df2=df.groupby(['department_id','job_id'])[['salary']].mean()\n",
    "df2=df2.reset_index()\n",
    "df2['salary'] = df2['salary'].round(1)\n",
    "df2.sort_values('salary',ascending=False)"
   ],
   "id": "8b5ddb046a7efa89"
  }
 ],
 "metadata": {
  "kernelspec": {
   "display_name": "Python (Learn-Python3.12)",
   "language": "python",
   "name": "learn-python3.12"
  },
  "language_info": {
   "codemirror_mode": {
    "name": "ipython",
    "version": 2
   },
   "file_extension": ".py",
   "mimetype": "text/x-python",
   "name": "python",
   "nbconvert_exporter": "python",
   "pygments_lexer": "ipython2",
   "version": "2.7.6"
  }
 },
 "nbformat": 4,
 "nbformat_minor": 5
}
